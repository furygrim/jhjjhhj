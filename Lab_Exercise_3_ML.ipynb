{
  "nbformat": 4,
  "nbformat_minor": 0,
  "metadata": {
    "colab": {
      "provenance": []
    },
    "kernelspec": {
      "name": "python3",
      "display_name": "Python 3"
    },
    "language_info": {
      "name": "python"
    }
  },
  "cells": [
    {
      "cell_type": "markdown",
      "source": [
        "\n",
        "**1. Complete all the exercises from previous labs before proceeding further.**"
      ],
      "metadata": {
        "id": "qLi6sU-Ry0J8"
      }
    },
    {
      "cell_type": "markdown",
      "source": [
        "\n",
        "\n",
        "```\n",
        "# This is formatted as code\n",
        "```\n",
        "\n",
        "**2. Implement Decision Tree algorithm without using inbuilt function**.\n",
        "\n",
        "a. Display Entropy and Information gain at every step.\n",
        "\n",
        "b. Display the decision tree.\n",
        "\n",
        "c. Give a sample input to the decision tree and display the output\n",
        "\n",
        "dataset = {\n",
        "\n",
        "  'Taste':['Salty',  'Spicy',  'Spicy',  'Spicy',  'Spicy',  'Sweet', 'Salty',  'Sweet',  Spicy',  'Salty'],\n",
        "\n",
        "'Temperature':['Hot',  'Hot',  'Hot',  'Cold',  'Hot',  'Cold','  Cold',  'Hot',  'Cold',  'Hot'],\n",
        "\n",
        "'Texture':['Soft',  'Soft',  'Hard',  'Hard',  'Hard',  'Soft',  'Soft',  'Soft',  'Soft',  'Hard'],\n",
        "\n",
        "'Eat':['No',  'No',  'Yes',  'No',  'Yes',  'Yes',  'No',  'Yes',  'Yes',  'Yes']\n",
        "\n",
        "}\n"
      ],
      "metadata": {
        "id": "9KqHDVeRyEM1"
      }
    },
    {
      "cell_type": "markdown",
      "source": [
        "**3. Repeat question 2 for a dataset selected on your own through internet resources.**"
      ],
      "metadata": {
        "id": "ZLle2wOkYxKX"
      }
    },
    {
      "cell_type": "code",
      "source": [
        "import pandas as pd\n",
        "import math\n",
        "from collections import defaultdict, Counter\n",
        "dataset = {\n",
        "\n",
        "'Taste':['Salty', 'Spicy', 'Spicy', 'Spicy', 'Spicy', 'Sweet', 'Salty', 'Sweet', 'Spicy', 'Salty'],\n",
        "\n",
        "'Temperature':['Hot', 'Hot', 'Hot', 'Cold', 'Hot', 'Cold',' Cold', 'Hot', 'Cold', 'Hot'],\n",
        "\n",
        "'Texture':['Soft', 'Soft', 'Hard', 'Hard', 'Hard', 'Soft', 'Soft', 'Soft', 'Soft', 'Hard'],\n",
        "\n",
        "'Eat':['No', 'No', 'Yes', 'No', 'Yes', 'Yes', 'No', 'Yes', 'Yes', 'Yes']\n",
        "\n",
        "}\n",
        "df=pd.DataFrame(dataset)\n",
        "def entropy(data):\n",
        "  label_counts=Counter(data)\n",
        "  total=len(data)\n",
        "  ent=0\n",
        "  for count in label_counts.values():\n",
        "    prob=count/total\n",
        "    ent+=-prob*math.log2(prob)\n",
        "  return ent\n",
        "def infogain(df,target,feature):\n",
        "  total_entropy=entropy(df[target])\n",
        "  values=df[feature].unique()\n",
        "  weighted_ent=0\n",
        "  for val in values:\n",
        "    subset=df[df[feature]==val]\n",
        "    weighted_ent+=(len(subset)/len(df))*entropy(subset[target])\n",
        "  return total_entropy-weighted_ent\n",
        "\n",
        "def build_tree(df,target,features,depth=0):\n",
        "  labels=df[target]\n",
        "  if(len(set(labels))==1):\n",
        "    return labels.iloc[0]\n",
        "  if not features:\n",
        "     return labels.mode()[0]\n",
        "\n",
        "\n",
        "  print(f\" \\n { '--'*20} \\n Step{depth+1}\")\n",
        "  gains={feature :infogain(df,target,feature) for feature in  features}\n",
        "  for feat,gain in gains.items():\n",
        "    print(f\" Info Gain for {feat}: {gain:4f}\")\n",
        "  best_feature=max(gains,key=gains.get)\n",
        "  print(\"The best feature to split on \",best_feature)\n",
        "  tree={best_feature:{}}\n",
        "  remaining_features={f for f in features if f!=best_feature}\n",
        "  for val in df[best_feature].unique():\n",
        "    subset=df[df[best_feature]==val]\n",
        "    subtree=build_tree(subset,target,remaining_features,depth+1)\n",
        "    tree[best_feature][val]=subtree\n",
        "\n",
        "  return tree\n",
        "\n",
        "\n",
        "def predict(tree,sample):\n",
        "  if not isinstance(tree,dict):\n",
        "     return tree\n",
        "\n",
        "  feature=next(iter(tree))\n",
        "  value=sample.get(feature)\n",
        "  if value in tree[feature]:\n",
        "    return predict(tree[feature][value],sample)\n",
        "  else:\n",
        "    return \"Unknown\"\n",
        "\n",
        "\n",
        "\n",
        "\n",
        "features=['Taste','Temperature','Texture']\n",
        "target='Eat'\n",
        "dt=build_tree(df,target,features)\n",
        "sample_input={'Taste': 'Spicy', 'Temperature': 'Cold', 'Texture': 'Soft'}\n",
        "output = predict(dt, sample_input)\n",
        "print(f\"\\nPrediction for input {sample_input} => Eat: {output}\")"
      ],
      "metadata": {
        "colab": {
          "base_uri": "https://localhost:8080/"
        },
        "id": "6RGYYw_Y5-CP",
        "outputId": "a7bb9ab5-70b9-40b7-ab99-5eb767d7cefb"
      },
      "execution_count": null,
      "outputs": [
        {
          "output_type": "stream",
          "name": "stdout",
          "text": [
            " \n",
            " ---------------------------------------- \n",
            " Step1\n",
            " Info Gain for Taste: 0.209987\n",
            " Info Gain for Temperature: 0.144484\n",
            " Info Gain for Texture: 0.046439\n",
            "The best feature to split on  Taste\n",
            " \n",
            " ---------------------------------------- \n",
            " Step2\n",
            " Info Gain for Temperature: 0.251629\n",
            " Info Gain for Texture: 0.918296\n",
            "The best feature to split on  Texture\n",
            " \n",
            " ---------------------------------------- \n",
            " Step2\n",
            " Info Gain for Temperature: 0.019973\n",
            " Info Gain for Texture: 0.019973\n",
            "The best feature to split on  Temperature\n",
            " \n",
            " ---------------------------------------- \n",
            " Step3\n",
            " Info Gain for Texture: 0.918296\n",
            "The best feature to split on  Texture\n",
            " \n",
            " ---------------------------------------- \n",
            " Step3\n",
            " Info Gain for Texture: 1.000000\n",
            "The best feature to split on  Texture\n",
            "\n",
            "Prediction for input {'Taste': 'Spicy', 'Temperature': 'Cold', 'Texture': 'Soft'} => Eat: Yes\n"
          ]
        }
      ]
    },
    {
      "cell_type": "code",
      "source": [
        "def print_tree(tree,prefix=\"\"):\n",
        "  if isinstance(tree,dict):\n",
        "    for key,val in tree.items():\n",
        "      print(f\"{prefix}{key}:\")\n",
        "      print_tree(val,prefix+\"   \")\n",
        "  else:\n",
        "    print(f\"{prefix}-->{tree}\")\n",
        "\n",
        "\n",
        "print_tree(dt)"
      ],
      "metadata": {
        "id": "Ea1SNH91bqjC",
        "colab": {
          "base_uri": "https://localhost:8080/"
        },
        "outputId": "ec1e17e6-f829-4df7-84ce-1b9bbc101369"
      },
      "execution_count": null,
      "outputs": [
        {
          "output_type": "stream",
          "name": "stdout",
          "text": [
            "Taste:\n",
            "   Salty:\n",
            "      Texture:\n",
            "         Soft:\n",
            "            -->No\n",
            "         Hard:\n",
            "            -->Yes\n",
            "   Spicy:\n",
            "      Temperature:\n",
            "         Hot:\n",
            "            Texture:\n",
            "               Soft:\n",
            "                  -->No\n",
            "               Hard:\n",
            "                  -->Yes\n",
            "         Cold:\n",
            "            Texture:\n",
            "               Hard:\n",
            "                  -->No\n",
            "               Soft:\n",
            "                  -->Yes\n",
            "   Sweet:\n",
            "      -->Yes\n"
          ]
        }
      ]
    },
    {
      "cell_type": "code",
      "source": [
        "df1=pd.read_csv(\"PlayTennis.csv\")\n",
        "print(df1.head())"
      ],
      "metadata": {
        "colab": {
          "base_uri": "https://localhost:8080/"
        },
        "id": "UPtQWdYPHK5h",
        "outputId": "5e660998-31fc-442b-8327-f72811470141"
      },
      "execution_count": null,
      "outputs": [
        {
          "output_type": "stream",
          "name": "stdout",
          "text": [
            "    Outlook Temperature Humidity    Wind PlayTennis\n",
            "0     Sunny         Hot     High    Weak         No\n",
            "1     Sunny         Hot     High  Strong         No\n",
            "2  Overcast         Hot     High    Weak        Yes\n",
            "3      Rain        Mild     High    Weak        Yes\n",
            "4      Rain        Cool   Normal    Weak        Yes\n"
          ]
        }
      ]
    },
    {
      "cell_type": "code",
      "source": [
        "features=['Outlook','Temperature','Humidity','Wind']\n",
        "target='PlayTennis'\n",
        "decision_tree=build_tree(df1,target,features)\n",
        "sample_input={'Outlook': 'Sunny', 'Temperature': 'Cool', 'Humidity': 'High', 'Wind': 'Weak'}\n",
        "output = predict(decision_tree, sample_input)\n",
        "print(f\"\\nPrediction for input {sample_input} => play: {output}\")\n",
        "print_tree(decision_tree)"
      ],
      "metadata": {
        "colab": {
          "base_uri": "https://localhost:8080/"
        },
        "id": "pycNTnjaI6J1",
        "outputId": "1d04a2a1-5146-4657-c80c-0c53eb863010"
      },
      "execution_count": null,
      "outputs": [
        {
          "output_type": "stream",
          "name": "stdout",
          "text": [
            " \n",
            " ---------------------------------------- \n",
            " Step1\n",
            " Info Gain for Outlook: 0.246750\n",
            " Info Gain for Temperature: 0.029223\n",
            " Info Gain for Humidity: 0.151836\n",
            " Info Gain for Wind: 0.048127\n",
            "The best feature to split on  Outlook\n",
            " \n",
            " ---------------------------------------- \n",
            " Step2\n",
            " Info Gain for Temperature: 0.570951\n",
            " Info Gain for Wind: 0.019973\n",
            " Info Gain for Humidity: 0.970951\n",
            "The best feature to split on  Humidity\n",
            " \n",
            " ---------------------------------------- \n",
            " Step2\n",
            " Info Gain for Temperature: 0.019973\n",
            " Info Gain for Wind: 0.970951\n",
            " Info Gain for Humidity: 0.019973\n",
            "The best feature to split on  Wind\n",
            "\n",
            "Prediction for input {'Outlook': 'Sunny', 'Temperature': 'Cool', 'Humidity': 'High', 'Wind': 'Weak'} => play: No\n",
            "Outlook:\n",
            "   Sunny:\n",
            "      Humidity:\n",
            "         High:\n",
            "            -->No\n",
            "         Normal:\n",
            "            -->Yes\n",
            "   Overcast:\n",
            "      -->Yes\n",
            "   Rain:\n",
            "      Wind:\n",
            "         Weak:\n",
            "            -->Yes\n",
            "         Strong:\n",
            "            -->No\n"
          ]
        }
      ]
    },
    {
      "cell_type": "code",
      "source": [],
      "metadata": {
        "id": "4KgNAgPlJl9t"
      },
      "execution_count": null,
      "outputs": []
    }
  ]
}